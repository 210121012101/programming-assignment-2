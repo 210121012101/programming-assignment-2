{
 "cells": [
  {
   "cell_type": "markdown",
   "id": "10c348a6",
   "metadata": {},
   "source": [
    "## 1"
   ]
  },
  {
   "cell_type": "code",
   "execution_count": 1,
   "id": "40a08dc2",
   "metadata": {},
   "outputs": [],
   "source": [
    "def km_to_miles(km):\n",
    "    miles = 0.62137119 * km\n",
    "    return miles"
   ]
  },
  {
   "cell_type": "code",
   "execution_count": 2,
   "id": "bddcbfc6",
   "metadata": {},
   "outputs": [
    {
     "data": {
      "text/plain": [
       "2.48548476"
      ]
     },
     "execution_count": 2,
     "metadata": {},
     "output_type": "execute_result"
    }
   ],
   "source": [
    "km_to_miles(4)"
   ]
  },
  {
   "cell_type": "markdown",
   "id": "15bdf5b7",
   "metadata": {},
   "source": [
    "## 2"
   ]
  },
  {
   "cell_type": "code",
   "execution_count": 3,
   "id": "087bd92c",
   "metadata": {},
   "outputs": [],
   "source": [
    "def cels_to_fahr(c):\n",
    "    fahr = 9/5 *(c) + 32\n",
    "    return fahr"
   ]
  },
  {
   "cell_type": "code",
   "execution_count": 4,
   "id": "d615d6de",
   "metadata": {},
   "outputs": [
    {
     "data": {
      "text/plain": [
       "212.0"
      ]
     },
     "execution_count": 4,
     "metadata": {},
     "output_type": "execute_result"
    }
   ],
   "source": [
    "cels_to_fahr(100)"
   ]
  },
  {
   "cell_type": "markdown",
   "id": "7d50ea65",
   "metadata": {},
   "source": [
    "## 3"
   ]
  },
  {
   "cell_type": "code",
   "execution_count": 5,
   "id": "e586eebc",
   "metadata": {},
   "outputs": [],
   "source": [
    "import calendar"
   ]
  },
  {
   "cell_type": "code",
   "execution_count": 6,
   "id": "a523faf1",
   "metadata": {},
   "outputs": [
    {
     "name": "stdout",
     "output_type": "stream",
     "text": [
      "year: 2022\n",
      "month: 5\n",
      "      May 2022\n",
      "Mo Tu We Th Fr Sa Su\n",
      "                   1\n",
      " 2  3  4  5  6  7  8\n",
      " 9 10 11 12 13 14 15\n",
      "16 17 18 19 20 21 22\n",
      "23 24 25 26 27 28 29\n",
      "30 31\n",
      "\n"
     ]
    }
   ],
   "source": [
    "year = int(input(\"year: \"))\n",
    "month = int(input(\"month: \"))\n",
    "print(calendar.month(year,month))"
   ]
  },
  {
   "cell_type": "markdown",
   "id": "aa2ff752",
   "metadata": {},
   "source": [
    "## 4"
   ]
  },
  {
   "cell_type": "code",
   "execution_count": 7,
   "id": "108c7310",
   "metadata": {},
   "outputs": [],
   "source": [
    "def quadratic_eq_solver(a,b,c):\n",
    "    \" for the equation ax^2 + bx + c = 0 \"\n",
    "    x1 = (-b + (b**2 - 4*a*c)**0.5)/(2*a)\n",
    "    x2 = (-b - (b**2 - 4*a*c)**0.5)/(2*a)\n",
    "    \n",
    "    return x1,x2"
   ]
  },
  {
   "cell_type": "code",
   "execution_count": 11,
   "id": "a543f008",
   "metadata": {},
   "outputs": [
    {
     "data": {
      "text/plain": [
       "(-0.7639320225002102, -5.23606797749979)"
      ]
     },
     "execution_count": 11,
     "metadata": {},
     "output_type": "execute_result"
    }
   ],
   "source": [
    "quadratic_eq_solver(a=1,b=6,c=4)"
   ]
  },
  {
   "cell_type": "markdown",
   "id": "b5af0aae",
   "metadata": {},
   "source": [
    "## 5"
   ]
  },
  {
   "cell_type": "code",
   "execution_count": 12,
   "id": "50225806",
   "metadata": {},
   "outputs": [
    {
     "name": "stdout",
     "output_type": "stream",
     "text": [
      "20 10\n"
     ]
    }
   ],
   "source": [
    "x = 10\n",
    "y = 20\n",
    "x,y = y,x\n",
    "print(\"x= \",x,y)"
   ]
  },
  {
   "cell_type": "code",
   "execution_count": null,
   "id": "202cd2af",
   "metadata": {},
   "outputs": [],
   "source": []
  }
 ],
 "metadata": {
  "kernelspec": {
   "display_name": "Python 3 (ipykernel)",
   "language": "python",
   "name": "python3"
  },
  "language_info": {
   "codemirror_mode": {
    "name": "ipython",
    "version": 3
   },
   "file_extension": ".py",
   "mimetype": "text/x-python",
   "name": "python",
   "nbconvert_exporter": "python",
   "pygments_lexer": "ipython3",
   "version": "3.7.11"
  }
 },
 "nbformat": 4,
 "nbformat_minor": 5
}
